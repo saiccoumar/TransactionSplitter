{
 "cells": [
  {
   "cell_type": "code",
   "execution_count": 1,
   "metadata": {},
   "outputs": [],
   "source": [
    "import sqlite3\n",
    "import pandas as pd"
   ]
  },
  {
   "cell_type": "code",
   "execution_count": 2,
   "metadata": {},
   "outputs": [
    {
     "data": {
      "text/plain": [
       "<sqlite3.Cursor at 0x1cb6d1cacc0>"
      ]
     },
     "execution_count": 2,
     "metadata": {},
     "output_type": "execute_result"
    }
   ],
   "source": [
    "# Connect to SQLite database (or create it if it doesn't exist)\n",
    "conn = sqlite3.connect(':memory:')\n",
    "cursor = conn.cursor()\n",
    "\n",
    "# Create the table\n",
    "cursor.execute('''\n",
    "    CREATE TABLE purchases (\n",
    "        store TEXT,\n",
    "        date TEXT,\n",
    "        item TEXT,\n",
    "        price REAL,\n",
    "        split INTEGER,\n",
    "        sai_purchases REAL,\n",
    "        tyler_purchases REAL,\n",
    "        paid_by TEXT\n",
    "    )\n",
    "''')"
   ]
  },
  {
   "cell_type": "code",
   "execution_count": 3,
   "metadata": {},
   "outputs": [],
   "source": [
    "# Load data from CSV file\n",
    "csv_file = 'Transactions/' +'test.csv'\n",
    "data = pd.read_csv(csv_file)\n",
    "\n",
    "\n",
    "# Strip any leading or trailing whitespace from column names\n",
    "data.columns = data.columns.str.strip()\n",
    "\n",
    "# Ensure that column names match those in the DataFrame\n",
    "data.rename(columns={\n",
    "    'Store': 'store',\n",
    "    'Date': 'date',\n",
    "    'Item': 'item',\n",
    "    'Price': 'price',\n",
    "    'Split(1=Sai,2=Tyler,3=Split)': 'split',\n",
    "    \"Sai's Purchases\": 'sai_purchases',\n",
    "    \"Tyler's Purchases\": 'tyler_purchases',\n",
    "    'Paid By': 'paid_by'\n",
    "}, inplace=True)\n",
    "\n",
    "# Insert data into the SQLite table\n",
    "data.to_sql('purchases', conn, if_exists='append', index=False)\n",
    "\n",
    "# Commit the transaction\n",
    "conn.commit()"
   ]
  },
  {
   "cell_type": "code",
   "execution_count": 4,
   "metadata": {},
   "outputs": [
    {
     "name": "stdout",
     "output_type": "stream",
     "text": [
      "('Menards', '8/14/2024', 'Arnold Palmer', 2.99, 3, 1.495, 1.495, 'Sai')\n",
      "('Menards', '8/14/2024', 'Air Circulator', 64.99, 2, 0.0, 64.99, 'Sai')\n",
      "('Menards', '8/14/2024', 'Spray Paint x2', 9.98, 1, 9.98, 0.0, 'Sai')\n",
      "('Menards', '8/14/2024', 'RW Impact Gloves', 9.99, 2, 0.0, 9.99, 'Sai')\n",
      "('Menards', '8/14/2024', 'Recycling Bin', 4.7, 3, 2.35, 2.35, 'Sai')\n"
     ]
    }
   ],
   "source": [
    "# Verify data has been inserted\n",
    "cursor.execute('SELECT * FROM purchases Limit 5')\n",
    "rows = cursor.fetchall()\n",
    "for row in rows:\n",
    "    print(row)\n"
   ]
  },
  {
   "cell_type": "code",
   "execution_count": 5,
   "metadata": {},
   "outputs": [
    {
     "name": "stdout",
     "output_type": "stream",
     "text": [
      "For the purchase @ Menards on 8/14/2024\n",
      "Total Pre-Tax: $142.61\n",
      "Sai's Total Purchases: $61.79\n",
      "Tyler's Total Purchases: $80.82\n",
      "Total Tax: $14.26\n",
      "Sai's Tax Split: $6.18\n",
      "Tyler's Tax Split: $8.08\n",
      "Tyler owes Sai $88.9\n"
     ]
    }
   ],
   "source": [
    "# Define the function to calculate tax split\n",
    "def calculate_tax_split(store, date):\n",
    "    # Calculate total pre-tax amount\n",
    "    cursor.execute('''\n",
    "        SELECT SUM(price)\n",
    "        FROM purchases\n",
    "        WHERE store = ? AND date = ? AND item != 'Tax'\n",
    "    ''', (store, date))\n",
    "    total_pre_tax = cursor.fetchone()[0]\n",
    "    \n",
    "    if total_pre_tax is None:\n",
    "        total_pre_tax = 0\n",
    "\n",
    "    # Calculate total Sai's purchases pre-tax\n",
    "    cursor.execute('''\n",
    "        SELECT SUM(sai_purchases)\n",
    "        FROM purchases\n",
    "        WHERE store = ? AND date = ? AND item != 'Tax'\n",
    "    ''', (store, date))\n",
    "    total_sai = cursor.fetchone()[0]\n",
    "    \n",
    "    if total_sai is None:\n",
    "        total_sai = 0\n",
    "\n",
    "    # Calculate total Tyler's purchases pre-tax\n",
    "    cursor.execute('''\n",
    "        SELECT SUM(tyler_purchases)\n",
    "        FROM purchases\n",
    "        WHERE store = ? AND date = ? AND item != 'Tax'\n",
    "    ''', (store, date))\n",
    "    total_tyler = cursor.fetchone()[0]\n",
    "    \n",
    "    if total_tyler is None:\n",
    "        total_tyler = 0\n",
    "\n",
    "    # Get tax amount\n",
    "    cursor.execute('''\n",
    "        SELECT price\n",
    "        FROM purchases\n",
    "        WHERE store = ? AND date = ? AND item = 'Tax'\n",
    "    ''', (store, date))\n",
    "    tax = cursor.fetchone()[0]\n",
    "    \n",
    "    if tax is None:\n",
    "        tax = 0\n",
    "\n",
    "    # Calculate tax split\n",
    "    if total_pre_tax > 0:\n",
    "        sai_tax = total_sai / total_pre_tax * tax\n",
    "        tyler_tax = total_tyler / total_pre_tax * tax\n",
    "    else:\n",
    "        sai_tax = 0\n",
    "        tyler_tax = 0\n",
    "    \n",
    "    return (\n",
    "        round(total_pre_tax, 2),\n",
    "        round(total_sai, 2),\n",
    "        round(total_tyler, 2),\n",
    "        round(tax, 2),\n",
    "        round(sai_tax,2),\n",
    "        round(tyler_tax,2)\n",
    "    )\n",
    "\n",
    "\n",
    "def calculate_amounts_to_pay(store, date):\n",
    "    # Run the tax split calculation\n",
    "    results = calculate_tax_split(store, date)\n",
    "    # print(results)\n",
    "    total_pre_tax, total_sai, total_tyler, tax, sai_tax, tyler_tax = results\n",
    "\n",
    "    # Calculate total amount Sai and Tyler owe\n",
    "    total_sai_purchased = round(total_sai + sai_tax, 2)\n",
    "    total_tyler_purchased = round(total_tyler + tyler_tax, 2)\n",
    "\n",
    "    # Determine who paid\n",
    "    cursor.execute('''\n",
    "        SELECT paid_by\n",
    "        FROM purchases\n",
    "        WHERE store = ? AND date = ? AND item = 'Tax'\n",
    "    ''', (store, date))\n",
    "    paid_by = cursor.fetchone()[0]\n",
    "    if paid_by==\"Tyler\":\n",
    "        return paid_by, total_sai_purchased\n",
    "    else: \n",
    "        return paid_by, total_tyler_purchased\n",
    "\n",
    "# Example usage of the function\n",
    "store_name = 'Menards'\n",
    "transaction_date = '8/14/2024'\n",
    "results = calculate_tax_split(store_name, transaction_date)\n",
    "print(f\"For the purchase @ {store_name} on {transaction_date}\")\n",
    "print(f\"Total Pre-Tax: ${results[0]}\")\n",
    "print(f\"Sai's Total Purchases: ${results[1]}\")\n",
    "print(f\"Tyler's Total Purchases: ${results[2]}\")\n",
    "print(f\"Total Tax: ${results[3]}\")\n",
    "print(f\"Sai's Tax Split: ${results[4]}\")\n",
    "print(f\"Tyler's Tax Split: ${results[5]}\")\n",
    "\n",
    "paid_by, due = calculate_amounts_to_pay(store_name, transaction_date)\n",
    "\n",
    "# Print the amounts\n",
    "\n",
    "if paid_by == 'Sai':\n",
    "    print(f\"Tyler owes Sai ${due}\")\n",
    "elif paid_by == 'Tyler':\n",
    "    print(f\"Sai owes tyler ${due}\")\n",
    "\n"
   ]
  },
  {
   "cell_type": "code",
   "execution_count": 6,
   "metadata": {},
   "outputs": [
    {
     "name": "stdout",
     "output_type": "stream",
     "text": [
      "Tyler owes Sai $88.9 for the transaction @ Menards on 8/14/2024\n",
      "Tyler owes Sai $10.89 for the transaction @ Menards on 8/12/2024\n",
      "Tyler owes Sai $1.78 for the transaction @ IKEA on 8/13/2024\n",
      "Sai owes Tyler $21.14 for the transaction @ Walmart on 8/14/2024\n",
      "Sai owes Tyler $2.74 for the transaction @ IKEA on 8/15/2024\n",
      "Tyler owes Sai $25.0 for the transaction @ ALDI on 8/12/2024\n",
      "Tyler owes Sai $6.88 for the transaction @ Dollar Tree on 8/12/2024\n",
      "\n",
      "\n",
      "After balancing, Tyler owes Sai: $109.57\n"
     ]
    }
   ],
   "source": [
    "def debt_balancing():\n",
    "    # Get all unique (store, date) tuples\n",
    "    cursor.execute('''\n",
    "        SELECT DISTINCT store, date\n",
    "        FROM purchases\n",
    "    ''')\n",
    "    unique_tuples = cursor.fetchall()\n",
    "     #Initialize variables to track overall balance\n",
    "    sai_owes_tyler_total = 0\n",
    "    tyler_owes_sai_total = 0\n",
    "\n",
    "    # Iterate over each unique (store, date) tuple\n",
    "    for store, date in unique_tuples:\n",
    "        paid_by, due = calculate_amounts_to_pay(store, date)\n",
    "        \n",
    "        if paid_by == 'Sai':\n",
    "            tyler_owes_sai_total += due\n",
    "            print(f\"Tyler owes Sai ${due} for the transaction @ {store} on {date}\")\n",
    "        elif paid_by == 'Tyler':\n",
    "            print(f\"Sai owes Tyler ${due} for the transaction @ {store} on {date}\")\n",
    "            sai_owes_tyler_total += due\n",
    "    print(\"\\n\")\n",
    "    # Calculate the net balance\n",
    "    if sai_owes_tyler_total > tyler_owes_sai_total:\n",
    "        net_owes_tyler = round(sai_owes_tyler_total - tyler_owes_sai_total, 2)\n",
    "        print(f\"After balancing, Sai owes Tyler: ${net_owes_tyler}\")\n",
    "    elif tyler_owes_sai_total > sai_owes_tyler_total:\n",
    "        net_owes_sai = round(tyler_owes_sai_total - sai_owes_tyler_total, 2)\n",
    "        print(f\"After balancing, Tyler owes Sai: ${net_owes_sai}\")\n",
    "    else:\n",
    "        print(\"Neither owes anything; the balance is even.\")\n",
    "\n",
    "\n",
    "debt_balancing()"
   ]
  },
  {
   "cell_type": "code",
   "execution_count": 7,
   "metadata": {},
   "outputs": [],
   "source": [
    "conn.close()"
   ]
  }
 ],
 "metadata": {
  "kernelspec": {
   "display_name": "Python 3",
   "language": "python",
   "name": "python3"
  },
  "language_info": {
   "codemirror_mode": {
    "name": "ipython",
    "version": 3
   },
   "file_extension": ".py",
   "mimetype": "text/x-python",
   "name": "python",
   "nbconvert_exporter": "python",
   "pygments_lexer": "ipython3",
   "version": "3.11.9"
  }
 },
 "nbformat": 4,
 "nbformat_minor": 2
}
